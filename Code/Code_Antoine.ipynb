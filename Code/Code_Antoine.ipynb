{
  "cells": [
    {
      "cell_type": "markdown",
      "source": [
        " ## Imports and Configuration"
      ],
      "metadata": {
        "id": "oc0vdSS2wjC7"
      },
      "id": "oc0vdSS2wjC7"
    },
    {
      "cell_type": "code",
      "execution_count": 1,
      "id": "65fe8d3d",
      "metadata": {
        "_cell_guid": "b1076dfc-b9ad-4769-8c92-a6c4dae69d19",
        "_uuid": "8f2839f25d086af736a60e9eeb907d3b93b6e0e5",
        "execution": {
          "iopub.execute_input": "2022-03-11T06:30:15.425722Z",
          "iopub.status.busy": "2022-03-11T06:30:15.424009Z",
          "iopub.status.idle": "2022-03-11T06:30:48.717642Z",
          "shell.execute_reply": "2022-03-11T06:30:48.716598Z",
          "shell.execute_reply.started": "2022-03-08T12:37:40.730357Z"
        },
        "papermill": {
          "duration": 33.32978,
          "end_time": "2022-03-11T06:30:48.717814",
          "exception": false,
          "start_time": "2022-03-11T06:30:15.388034",
          "status": "completed"
        },
        "tags": [],
        "id": "65fe8d3d"
      },
      "outputs": [],
      "source": [
        "import numpy as np # linear algebra\n",
        "import pandas as pd # data processing, CSV file I/O (e.g. pd.read_csv)\n",
        "import networkx as nx\n",
        "import matplotlib.pyplot as plt "
      ]
    },
    {
      "cell_type": "code",
      "source": [
        "from google.colab import drive\n",
        "drive.mount('/content/drive')"
      ],
      "metadata": {
        "colab": {
          "base_uri": "https://localhost:8080/"
        },
        "id": "eSS3DjtspscO",
        "outputId": "e815c906-0ad2-4695-befd-f2f177f2f5a4"
      },
      "id": "eSS3DjtspscO",
      "execution_count": 2,
      "outputs": [
        {
          "output_type": "stream",
          "name": "stdout",
          "text": [
            "Mounted at /content/drive\n"
          ]
        }
      ]
    },
    {
      "cell_type": "code",
      "source": [
        "%cd /content/drive/MyDrive/MLNS/Kaggle\n"
      ],
      "metadata": {
        "colab": {
          "base_uri": "https://localhost:8080/"
        },
        "id": "Dz8kBK07prlO",
        "outputId": "f5c73ce1-1358-4ddc-9f71-05aaafd11fdf"
      },
      "id": "Dz8kBK07prlO",
      "execution_count": 3,
      "outputs": [
        {
          "output_type": "stream",
          "name": "stdout",
          "text": [
            "/content/drive/MyDrive/MLNS/Kaggle\n"
          ]
        }
      ]
    },
    {
      "cell_type": "markdown",
      "source": [
        "## Data Preprocessing"
      ],
      "metadata": {
        "id": "-w9PpKE9wrrO"
      },
      "id": "-w9PpKE9wrrO"
    },
    {
      "cell_type": "markdown",
      "source": [
        "### Import and Format data"
      ],
      "metadata": {
        "id": "DI4Tid6rw3Br"
      },
      "id": "DI4Tid6rw3Br"
    },
    {
      "cell_type": "code",
      "execution_count": 4,
      "id": "b6495807",
      "metadata": {
        "execution": {
          "iopub.execute_input": "2022-03-11T06:30:48.786227Z",
          "iopub.status.busy": "2022-03-11T06:30:48.785571Z",
          "iopub.status.idle": "2022-03-11T06:30:49.066140Z",
          "shell.execute_reply": "2022-03-11T06:30:49.067178Z",
          "shell.execute_reply.started": "2022-03-08T12:37:56.003767Z"
        },
        "papermill": {
          "duration": 0.318038,
          "end_time": "2022-03-11T06:30:49.067350",
          "exception": false,
          "start_time": "2022-03-11T06:30:48.749312",
          "status": "completed"
        },
        "tags": [],
        "id": "b6495807"
      },
      "outputs": [],
      "source": [
        "data = pd.read_csv('train.txt', sep=' ', header =None)\n",
        "test_data = pd.read_csv('test.txt', sep=' ', header =None)"
      ]
    },
    {
      "cell_type": "code",
      "execution_count": 5,
      "id": "160a5224",
      "metadata": {
        "execution": {
          "iopub.execute_input": "2022-03-11T06:30:49.134308Z",
          "iopub.status.busy": "2022-03-11T06:30:49.133359Z",
          "iopub.status.idle": "2022-03-11T06:30:49.152052Z",
          "shell.execute_reply": "2022-03-11T06:30:49.152530Z",
          "shell.execute_reply.started": "2022-03-08T12:37:56.28358Z"
        },
        "papermill": {
          "duration": 0.053035,
          "end_time": "2022-03-11T06:30:49.152687",
          "exception": false,
          "start_time": "2022-03-11T06:30:49.099652",
          "status": "completed"
        },
        "tags": [],
        "colab": {
          "base_uri": "https://localhost:8080/",
          "height": 206
        },
        "id": "160a5224",
        "outputId": "78ae9ad3-837b-4643-f01e-e72720065906"
      },
      "outputs": [
        {
          "output_type": "execute_result",
          "data": {
            "text/plain": [
              "      0     1  2\n",
              "0   939  3809  1\n",
              "1  2442  5784  1\n",
              "2   179  3809  1\n",
              "3   857  2280  1\n",
              "4  1358  5722  1"
            ],
            "text/html": [
              "\n",
              "  <div id=\"df-7faaf96f-dc5c-4013-8721-b907aaa5880c\">\n",
              "    <div class=\"colab-df-container\">\n",
              "      <div>\n",
              "<style scoped>\n",
              "    .dataframe tbody tr th:only-of-type {\n",
              "        vertical-align: middle;\n",
              "    }\n",
              "\n",
              "    .dataframe tbody tr th {\n",
              "        vertical-align: top;\n",
              "    }\n",
              "\n",
              "    .dataframe thead th {\n",
              "        text-align: right;\n",
              "    }\n",
              "</style>\n",
              "<table border=\"1\" class=\"dataframe\">\n",
              "  <thead>\n",
              "    <tr style=\"text-align: right;\">\n",
              "      <th></th>\n",
              "      <th>0</th>\n",
              "      <th>1</th>\n",
              "      <th>2</th>\n",
              "    </tr>\n",
              "  </thead>\n",
              "  <tbody>\n",
              "    <tr>\n",
              "      <th>0</th>\n",
              "      <td>939</td>\n",
              "      <td>3809</td>\n",
              "      <td>1</td>\n",
              "    </tr>\n",
              "    <tr>\n",
              "      <th>1</th>\n",
              "      <td>2442</td>\n",
              "      <td>5784</td>\n",
              "      <td>1</td>\n",
              "    </tr>\n",
              "    <tr>\n",
              "      <th>2</th>\n",
              "      <td>179</td>\n",
              "      <td>3809</td>\n",
              "      <td>1</td>\n",
              "    </tr>\n",
              "    <tr>\n",
              "      <th>3</th>\n",
              "      <td>857</td>\n",
              "      <td>2280</td>\n",
              "      <td>1</td>\n",
              "    </tr>\n",
              "    <tr>\n",
              "      <th>4</th>\n",
              "      <td>1358</td>\n",
              "      <td>5722</td>\n",
              "      <td>1</td>\n",
              "    </tr>\n",
              "  </tbody>\n",
              "</table>\n",
              "</div>\n",
              "      <button class=\"colab-df-convert\" onclick=\"convertToInteractive('df-7faaf96f-dc5c-4013-8721-b907aaa5880c')\"\n",
              "              title=\"Convert this dataframe to an interactive table.\"\n",
              "              style=\"display:none;\">\n",
              "        \n",
              "  <svg xmlns=\"http://www.w3.org/2000/svg\" height=\"24px\"viewBox=\"0 0 24 24\"\n",
              "       width=\"24px\">\n",
              "    <path d=\"M0 0h24v24H0V0z\" fill=\"none\"/>\n",
              "    <path d=\"M18.56 5.44l.94 2.06.94-2.06 2.06-.94-2.06-.94-.94-2.06-.94 2.06-2.06.94zm-11 1L8.5 8.5l.94-2.06 2.06-.94-2.06-.94L8.5 2.5l-.94 2.06-2.06.94zm10 10l.94 2.06.94-2.06 2.06-.94-2.06-.94-.94-2.06-.94 2.06-2.06.94z\"/><path d=\"M17.41 7.96l-1.37-1.37c-.4-.4-.92-.59-1.43-.59-.52 0-1.04.2-1.43.59L10.3 9.45l-7.72 7.72c-.78.78-.78 2.05 0 2.83L4 21.41c.39.39.9.59 1.41.59.51 0 1.02-.2 1.41-.59l7.78-7.78 2.81-2.81c.8-.78.8-2.07 0-2.86zM5.41 20L4 18.59l7.72-7.72 1.47 1.35L5.41 20z\"/>\n",
              "  </svg>\n",
              "      </button>\n",
              "      \n",
              "  <style>\n",
              "    .colab-df-container {\n",
              "      display:flex;\n",
              "      flex-wrap:wrap;\n",
              "      gap: 12px;\n",
              "    }\n",
              "\n",
              "    .colab-df-convert {\n",
              "      background-color: #E8F0FE;\n",
              "      border: none;\n",
              "      border-radius: 50%;\n",
              "      cursor: pointer;\n",
              "      display: none;\n",
              "      fill: #1967D2;\n",
              "      height: 32px;\n",
              "      padding: 0 0 0 0;\n",
              "      width: 32px;\n",
              "    }\n",
              "\n",
              "    .colab-df-convert:hover {\n",
              "      background-color: #E2EBFA;\n",
              "      box-shadow: 0px 1px 2px rgba(60, 64, 67, 0.3), 0px 1px 3px 1px rgba(60, 64, 67, 0.15);\n",
              "      fill: #174EA6;\n",
              "    }\n",
              "\n",
              "    [theme=dark] .colab-df-convert {\n",
              "      background-color: #3B4455;\n",
              "      fill: #D2E3FC;\n",
              "    }\n",
              "\n",
              "    [theme=dark] .colab-df-convert:hover {\n",
              "      background-color: #434B5C;\n",
              "      box-shadow: 0px 1px 3px 1px rgba(0, 0, 0, 0.15);\n",
              "      filter: drop-shadow(0px 1px 2px rgba(0, 0, 0, 0.3));\n",
              "      fill: #FFFFFF;\n",
              "    }\n",
              "  </style>\n",
              "\n",
              "      <script>\n",
              "        const buttonEl =\n",
              "          document.querySelector('#df-7faaf96f-dc5c-4013-8721-b907aaa5880c button.colab-df-convert');\n",
              "        buttonEl.style.display =\n",
              "          google.colab.kernel.accessAllowed ? 'block' : 'none';\n",
              "\n",
              "        async function convertToInteractive(key) {\n",
              "          const element = document.querySelector('#df-7faaf96f-dc5c-4013-8721-b907aaa5880c');\n",
              "          const dataTable =\n",
              "            await google.colab.kernel.invokeFunction('convertToInteractive',\n",
              "                                                     [key], {});\n",
              "          if (!dataTable) return;\n",
              "\n",
              "          const docLinkHtml = 'Like what you see? Visit the ' +\n",
              "            '<a target=\"_blank\" href=https://colab.research.google.com/notebooks/data_table.ipynb>data table notebook</a>'\n",
              "            + ' to learn more about interactive tables.';\n",
              "          element.innerHTML = '';\n",
              "          dataTable['output_type'] = 'display_data';\n",
              "          await google.colab.output.renderOutput(dataTable, element);\n",
              "          const docLink = document.createElement('div');\n",
              "          docLink.innerHTML = docLinkHtml;\n",
              "          element.appendChild(docLink);\n",
              "        }\n",
              "      </script>\n",
              "    </div>\n",
              "  </div>\n",
              "  "
            ]
          },
          "metadata": {},
          "execution_count": 5
        }
      ],
      "source": [
        "data.head()"
      ]
    },
    {
      "cell_type": "code",
      "execution_count": 6,
      "id": "c3457e6f",
      "metadata": {
        "execution": {
          "iopub.execute_input": "2022-03-11T06:30:49.219267Z",
          "iopub.status.busy": "2022-03-11T06:30:49.216999Z",
          "iopub.status.idle": "2022-03-11T06:30:49.221592Z",
          "shell.execute_reply": "2022-03-11T06:30:49.222021Z",
          "shell.execute_reply.started": "2022-03-08T12:37:56.303942Z"
        },
        "papermill": {
          "duration": 0.038483,
          "end_time": "2022-03-11T06:30:49.222191",
          "exception": false,
          "start_time": "2022-03-11T06:30:49.183708",
          "status": "completed"
        },
        "tags": [],
        "colab": {
          "base_uri": "https://localhost:8080/"
        },
        "id": "c3457e6f",
        "outputId": "27837464-1ff7-4bba-9cff-a3548d6e8ae6"
      },
      "outputs": [
        {
          "output_type": "execute_result",
          "data": {
            "text/plain": [
              "(10496, 3)"
            ]
          },
          "metadata": {},
          "execution_count": 6
        }
      ],
      "source": [
        "data.shape"
      ]
    },
    {
      "cell_type": "code",
      "execution_count": 7,
      "id": "b77eed9a",
      "metadata": {
        "execution": {
          "iopub.execute_input": "2022-03-11T06:30:49.290338Z",
          "iopub.status.busy": "2022-03-11T06:30:49.289712Z",
          "iopub.status.idle": "2022-03-11T06:30:49.291418Z",
          "shell.execute_reply": "2022-03-11T06:30:49.292183Z",
          "shell.execute_reply.started": "2022-03-08T12:37:56.310385Z"
        },
        "papermill": {
          "duration": 0.037822,
          "end_time": "2022-03-11T06:30:49.292359",
          "exception": false,
          "start_time": "2022-03-11T06:30:49.254537",
          "status": "completed"
        },
        "tags": [],
        "id": "b77eed9a"
      },
      "outputs": [],
      "source": [
        "data.columns  = ['Source', 'Target' , 'Link']"
      ]
    },
    {
      "cell_type": "code",
      "execution_count": 8,
      "id": "5cf2f651",
      "metadata": {
        "execution": {
          "iopub.execute_input": "2022-03-11T06:30:49.364754Z",
          "iopub.status.busy": "2022-03-11T06:30:49.360112Z",
          "iopub.status.idle": "2022-03-11T06:30:49.368119Z",
          "shell.execute_reply": "2022-03-11T06:30:49.368585Z",
          "shell.execute_reply.started": "2022-03-08T12:37:56.321241Z"
        },
        "papermill": {
          "duration": 0.045389,
          "end_time": "2022-03-11T06:30:49.368785",
          "exception": false,
          "start_time": "2022-03-11T06:30:49.323396",
          "status": "completed"
        },
        "tags": [],
        "colab": {
          "base_uri": "https://localhost:8080/",
          "height": 206
        },
        "id": "5cf2f651",
        "outputId": "2dd6ea28-3a96-460a-b8fd-5965b345de6e"
      },
      "outputs": [
        {
          "output_type": "execute_result",
          "data": {
            "text/plain": [
              "   Source  Target  Link\n",
              "0     939    3809     1\n",
              "1    2442    5784     1\n",
              "2     179    3809     1\n",
              "3     857    2280     1\n",
              "4    1358    5722     1"
            ],
            "text/html": [
              "\n",
              "  <div id=\"df-496b6bf6-0da4-4d52-b42b-3aa053603cad\">\n",
              "    <div class=\"colab-df-container\">\n",
              "      <div>\n",
              "<style scoped>\n",
              "    .dataframe tbody tr th:only-of-type {\n",
              "        vertical-align: middle;\n",
              "    }\n",
              "\n",
              "    .dataframe tbody tr th {\n",
              "        vertical-align: top;\n",
              "    }\n",
              "\n",
              "    .dataframe thead th {\n",
              "        text-align: right;\n",
              "    }\n",
              "</style>\n",
              "<table border=\"1\" class=\"dataframe\">\n",
              "  <thead>\n",
              "    <tr style=\"text-align: right;\">\n",
              "      <th></th>\n",
              "      <th>Source</th>\n",
              "      <th>Target</th>\n",
              "      <th>Link</th>\n",
              "    </tr>\n",
              "  </thead>\n",
              "  <tbody>\n",
              "    <tr>\n",
              "      <th>0</th>\n",
              "      <td>939</td>\n",
              "      <td>3809</td>\n",
              "      <td>1</td>\n",
              "    </tr>\n",
              "    <tr>\n",
              "      <th>1</th>\n",
              "      <td>2442</td>\n",
              "      <td>5784</td>\n",
              "      <td>1</td>\n",
              "    </tr>\n",
              "    <tr>\n",
              "      <th>2</th>\n",
              "      <td>179</td>\n",
              "      <td>3809</td>\n",
              "      <td>1</td>\n",
              "    </tr>\n",
              "    <tr>\n",
              "      <th>3</th>\n",
              "      <td>857</td>\n",
              "      <td>2280</td>\n",
              "      <td>1</td>\n",
              "    </tr>\n",
              "    <tr>\n",
              "      <th>4</th>\n",
              "      <td>1358</td>\n",
              "      <td>5722</td>\n",
              "      <td>1</td>\n",
              "    </tr>\n",
              "  </tbody>\n",
              "</table>\n",
              "</div>\n",
              "      <button class=\"colab-df-convert\" onclick=\"convertToInteractive('df-496b6bf6-0da4-4d52-b42b-3aa053603cad')\"\n",
              "              title=\"Convert this dataframe to an interactive table.\"\n",
              "              style=\"display:none;\">\n",
              "        \n",
              "  <svg xmlns=\"http://www.w3.org/2000/svg\" height=\"24px\"viewBox=\"0 0 24 24\"\n",
              "       width=\"24px\">\n",
              "    <path d=\"M0 0h24v24H0V0z\" fill=\"none\"/>\n",
              "    <path d=\"M18.56 5.44l.94 2.06.94-2.06 2.06-.94-2.06-.94-.94-2.06-.94 2.06-2.06.94zm-11 1L8.5 8.5l.94-2.06 2.06-.94-2.06-.94L8.5 2.5l-.94 2.06-2.06.94zm10 10l.94 2.06.94-2.06 2.06-.94-2.06-.94-.94-2.06-.94 2.06-2.06.94z\"/><path d=\"M17.41 7.96l-1.37-1.37c-.4-.4-.92-.59-1.43-.59-.52 0-1.04.2-1.43.59L10.3 9.45l-7.72 7.72c-.78.78-.78 2.05 0 2.83L4 21.41c.39.39.9.59 1.41.59.51 0 1.02-.2 1.41-.59l7.78-7.78 2.81-2.81c.8-.78.8-2.07 0-2.86zM5.41 20L4 18.59l7.72-7.72 1.47 1.35L5.41 20z\"/>\n",
              "  </svg>\n",
              "      </button>\n",
              "      \n",
              "  <style>\n",
              "    .colab-df-container {\n",
              "      display:flex;\n",
              "      flex-wrap:wrap;\n",
              "      gap: 12px;\n",
              "    }\n",
              "\n",
              "    .colab-df-convert {\n",
              "      background-color: #E8F0FE;\n",
              "      border: none;\n",
              "      border-radius: 50%;\n",
              "      cursor: pointer;\n",
              "      display: none;\n",
              "      fill: #1967D2;\n",
              "      height: 32px;\n",
              "      padding: 0 0 0 0;\n",
              "      width: 32px;\n",
              "    }\n",
              "\n",
              "    .colab-df-convert:hover {\n",
              "      background-color: #E2EBFA;\n",
              "      box-shadow: 0px 1px 2px rgba(60, 64, 67, 0.3), 0px 1px 3px 1px rgba(60, 64, 67, 0.15);\n",
              "      fill: #174EA6;\n",
              "    }\n",
              "\n",
              "    [theme=dark] .colab-df-convert {\n",
              "      background-color: #3B4455;\n",
              "      fill: #D2E3FC;\n",
              "    }\n",
              "\n",
              "    [theme=dark] .colab-df-convert:hover {\n",
              "      background-color: #434B5C;\n",
              "      box-shadow: 0px 1px 3px 1px rgba(0, 0, 0, 0.15);\n",
              "      filter: drop-shadow(0px 1px 2px rgba(0, 0, 0, 0.3));\n",
              "      fill: #FFFFFF;\n",
              "    }\n",
              "  </style>\n",
              "\n",
              "      <script>\n",
              "        const buttonEl =\n",
              "          document.querySelector('#df-496b6bf6-0da4-4d52-b42b-3aa053603cad button.colab-df-convert');\n",
              "        buttonEl.style.display =\n",
              "          google.colab.kernel.accessAllowed ? 'block' : 'none';\n",
              "\n",
              "        async function convertToInteractive(key) {\n",
              "          const element = document.querySelector('#df-496b6bf6-0da4-4d52-b42b-3aa053603cad');\n",
              "          const dataTable =\n",
              "            await google.colab.kernel.invokeFunction('convertToInteractive',\n",
              "                                                     [key], {});\n",
              "          if (!dataTable) return;\n",
              "\n",
              "          const docLinkHtml = 'Like what you see? Visit the ' +\n",
              "            '<a target=\"_blank\" href=https://colab.research.google.com/notebooks/data_table.ipynb>data table notebook</a>'\n",
              "            + ' to learn more about interactive tables.';\n",
              "          element.innerHTML = '';\n",
              "          dataTable['output_type'] = 'display_data';\n",
              "          await google.colab.output.renderOutput(dataTable, element);\n",
              "          const docLink = document.createElement('div');\n",
              "          docLink.innerHTML = docLinkHtml;\n",
              "          element.appendChild(docLink);\n",
              "        }\n",
              "      </script>\n",
              "    </div>\n",
              "  </div>\n",
              "  "
            ]
          },
          "metadata": {},
          "execution_count": 8
        }
      ],
      "source": [
        "data.head()"
      ]
    },
    {
      "cell_type": "code",
      "execution_count": 9,
      "id": "787b358f",
      "metadata": {
        "execution": {
          "iopub.execute_input": "2022-03-11T06:30:49.666541Z",
          "iopub.status.busy": "2022-03-11T06:30:49.614712Z",
          "iopub.status.idle": "2022-03-11T06:30:49.670261Z",
          "shell.execute_reply": "2022-03-11T06:30:49.669706Z",
          "shell.execute_reply.started": "2022-03-08T12:37:56.346621Z"
        },
        "papermill": {
          "duration": 0.199976,
          "end_time": "2022-03-11T06:30:49.670391",
          "exception": false,
          "start_time": "2022-03-11T06:30:49.470415",
          "status": "completed"
        },
        "tags": [],
        "colab": {
          "base_uri": "https://localhost:8080/"
        },
        "id": "787b358f",
        "outputId": "45717ec7-edf3-40fd-beba-d90235acdfb5"
      },
      "outputs": [
        {
          "output_type": "execute_result",
          "data": {
            "text/plain": [
              "3597"
            ]
          },
          "metadata": {},
          "execution_count": 9
        }
      ],
      "source": [
        "unique_nodes = list(data['Source']) +list(data['Target'])\n",
        "unique_nodes = list(set(unique_nodes))\n",
        "len(unique_nodes)"
      ]
    },
    {
      "cell_type": "markdown",
      "source": [
        "### Create graph"
      ],
      "metadata": {
        "id": "NqHKGtxCw-gm"
      },
      "id": "NqHKGtxCw-gm"
    },
    {
      "cell_type": "code",
      "execution_count": 10,
      "id": "8867bda0",
      "metadata": {
        "execution": {
          "iopub.execute_input": "2022-03-11T06:30:49.813152Z",
          "iopub.status.busy": "2022-03-11T06:30:49.812533Z",
          "iopub.status.idle": "2022-03-11T06:30:50.222517Z",
          "shell.execute_reply": "2022-03-11T06:30:50.221805Z",
          "shell.execute_reply.started": "2022-03-08T12:37:56.578037Z"
        },
        "papermill": {
          "duration": 0.44551,
          "end_time": "2022-03-11T06:30:50.222662",
          "exception": false,
          "start_time": "2022-03-11T06:30:49.777152",
          "status": "completed"
        },
        "tags": [],
        "id": "8867bda0"
      },
      "outputs": [],
      "source": [
        "g = nx.Graph()"
      ]
    },
    {
      "cell_type": "code",
      "execution_count": 11,
      "id": "0c08fc0f",
      "metadata": {
        "execution": {
          "iopub.execute_input": "2022-03-11T06:30:50.306049Z",
          "iopub.status.busy": "2022-03-11T06:30:50.295266Z",
          "iopub.status.idle": "2022-03-11T06:30:50.330173Z",
          "shell.execute_reply": "2022-03-11T06:30:50.330603Z",
          "shell.execute_reply.started": "2022-03-08T12:37:56.896383Z"
        },
        "papermill": {
          "duration": 0.075272,
          "end_time": "2022-03-11T06:30:50.330782",
          "exception": false,
          "start_time": "2022-03-11T06:30:50.255510",
          "status": "completed"
        },
        "tags": [],
        "id": "0c08fc0f"
      },
      "outputs": [],
      "source": [
        "g.add_nodes_from(unique_nodes)"
      ]
    },
    {
      "cell_type": "code",
      "execution_count": 12,
      "id": "6f19c437",
      "metadata": {
        "execution": {
          "iopub.execute_input": "2022-03-11T06:30:50.397988Z",
          "iopub.status.busy": "2022-03-11T06:30:50.397355Z",
          "iopub.status.idle": "2022-03-11T06:31:02.372882Z",
          "shell.execute_reply": "2022-03-11T06:31:02.372367Z",
          "shell.execute_reply.started": "2022-03-08T12:37:56.948507Z"
        },
        "papermill": {
          "duration": 12.010248,
          "end_time": "2022-03-11T06:31:02.373028",
          "exception": false,
          "start_time": "2022-03-11T06:30:50.362780",
          "status": "completed"
        },
        "tags": [],
        "id": "6f19c437"
      },
      "outputs": [],
      "source": [
        "tuples_list = []\n",
        "only_link_df  = data[data['Link'] ==1]\n",
        "for index , row in only_link_df.iterrows():\n",
        "    source = row['Source']\n",
        "    target = row['Target']\n",
        "    \n",
        "    tuples_list.append((source, target))"
      ]
    },
    {
      "cell_type": "code",
      "execution_count": 13,
      "id": "987009e8",
      "metadata": {
        "execution": {
          "iopub.execute_input": "2022-03-11T06:31:02.443493Z",
          "iopub.status.busy": "2022-03-11T06:31:02.442722Z",
          "iopub.status.idle": "2022-03-11T06:31:02.445757Z",
          "shell.execute_reply": "2022-03-11T06:31:02.446208Z",
          "shell.execute_reply.started": "2022-03-08T12:38:11.494366Z"
        },
        "papermill": {
          "duration": 0.040787,
          "end_time": "2022-03-11T06:31:02.446369",
          "exception": false,
          "start_time": "2022-03-11T06:31:02.405582",
          "status": "completed"
        },
        "tags": [],
        "colab": {
          "base_uri": "https://localhost:8080/"
        },
        "id": "987009e8",
        "outputId": "ce1cc00c-9540-48b6-9377-ef3b37883f9f"
      },
      "outputs": [
        {
          "output_type": "execute_result",
          "data": {
            "text/plain": [
              "[(939, 3809), (2442, 5784), (179, 3809), (857, 2280), (1358, 5722)]"
            ]
          },
          "metadata": {},
          "execution_count": 13
        }
      ],
      "source": [
        "tuples_list[:5]"
      ]
    },
    {
      "cell_type": "code",
      "execution_count": 14,
      "id": "b85b5450",
      "metadata": {
        "execution": {
          "iopub.execute_input": "2022-03-11T06:31:02.514190Z",
          "iopub.status.busy": "2022-03-11T06:31:02.513283Z",
          "iopub.status.idle": "2022-03-11T06:31:03.502986Z",
          "shell.execute_reply": "2022-03-11T06:31:03.502348Z",
          "shell.execute_reply.started": "2022-03-08T12:38:11.501266Z"
        },
        "papermill": {
          "duration": 1.02483,
          "end_time": "2022-03-11T06:31:03.503154",
          "exception": false,
          "start_time": "2022-03-11T06:31:02.478324",
          "status": "completed"
        },
        "tags": [],
        "id": "b85b5450"
      },
      "outputs": [],
      "source": [
        "g.add_edges_from(tuples_list)"
      ]
    },
    {
      "cell_type": "code",
      "execution_count": 15,
      "id": "6687a991",
      "metadata": {
        "execution": {
          "iopub.execute_input": "2022-03-11T06:31:03.572355Z",
          "iopub.status.busy": "2022-03-11T06:31:03.571678Z",
          "iopub.status.idle": "2022-03-11T06:31:03.573520Z",
          "shell.execute_reply": "2022-03-11T06:31:03.573959Z",
          "shell.execute_reply.started": "2022-03-08T12:38:12.902349Z"
        },
        "papermill": {
          "duration": 0.038734,
          "end_time": "2022-03-11T06:31:03.574142",
          "exception": false,
          "start_time": "2022-03-11T06:31:03.535408",
          "status": "completed"
        },
        "tags": [],
        "colab": {
          "base_uri": "https://localhost:8080/",
          "height": 319
        },
        "id": "6687a991",
        "outputId": "bb624e1d-5b45-4115-f984-3b6d969fc616"
      },
      "outputs": [
        {
          "output_type": "display_data",
          "data": {
            "text/plain": [
              "<Figure size 432x288 with 1 Axes>"
            ],
            "image/png": "[encoded data removed]"
          },
          "metadata": {}
        }
      ],
      "source": [
        "pos=nx.spring_layout(g)\n",
        "nx.draw(g, pos=pos, node_color='g', node_size=8, with_labels=False)\n",
        "plt.show()"
      ]
    },
    {
      "cell_type": "markdown",
      "source": [
        "## Features"
      ],
      "metadata": {
        "id": "uokojpPCxFHw"
      },
      "id": "uokojpPCxFHw"
    },
    {
      "cell_type": "code",
      "execution_count": 16,
      "id": "037ec950",
      "metadata": {
        "execution": {
          "iopub.execute_input": "2022-03-11T06:31:03.640684Z",
          "iopub.status.busy": "2022-03-11T06:31:03.640128Z",
          "iopub.status.idle": "2022-03-11T06:31:05.195024Z",
          "shell.execute_reply": "2022-03-11T06:31:05.195701Z",
          "shell.execute_reply.started": "2022-03-08T12:38:12.907069Z"
        },
        "papermill": {
          "duration": 1.589854,
          "end_time": "2022-03-11T06:31:05.195912",
          "exception": false,
          "start_time": "2022-03-11T06:31:03.606058",
          "status": "completed"
        },
        "tags": [],
        "id": "037ec950"
      },
      "outputs": [],
      "source": [
        "pr_dict = nx.pagerank(g)"
      ]
    },
    {
      "cell_type": "code",
      "execution_count": 17,
      "id": "44b44f28",
      "metadata": {
        "execution": {
          "iopub.execute_input": "2022-03-11T06:31:05.264953Z",
          "iopub.status.busy": "2022-03-11T06:31:05.264399Z",
          "iopub.status.idle": "2022-03-11T06:31:05.268507Z",
          "shell.execute_reply": "2022-03-11T06:31:05.268945Z",
          "shell.execute_reply.started": "2022-03-08T12:38:14.844182Z"
        },
        "papermill": {
          "duration": 0.039909,
          "end_time": "2022-03-11T06:31:05.269140",
          "exception": false,
          "start_time": "2022-03-11T06:31:05.229231",
          "status": "completed"
        },
        "tags": [],
        "colab": {
          "base_uri": "https://localhost:8080/"
        },
        "id": "44b44f28",
        "outputId": "0d091e25-49e3-4d21-c1b7-35154b8f031c"
      },
      "outputs": [
        {
          "output_type": "execute_result",
          "data": {
            "text/plain": [
              "3597"
            ]
          },
          "metadata": {},
          "execution_count": 17
        }
      ],
      "source": [
        "len(pr_dict)"
      ]
    },
    {
      "cell_type": "code",
      "execution_count": 18,
      "id": "434781f5",
      "metadata": {
        "execution": {
          "iopub.execute_input": "2022-03-11T06:31:05.337516Z",
          "iopub.status.busy": "2022-03-11T06:31:05.336898Z",
          "iopub.status.idle": "2022-03-11T06:31:05.340595Z",
          "shell.execute_reply": "2022-03-11T06:31:05.341017Z",
          "shell.execute_reply.started": "2022-03-08T12:38:14.852066Z"
        },
        "papermill": {
          "duration": 0.039339,
          "end_time": "2022-03-11T06:31:05.341186",
          "exception": false,
          "start_time": "2022-03-11T06:31:05.301847",
          "status": "completed"
        },
        "tags": [],
        "colab": {
          "base_uri": "https://localhost:8080/"
        },
        "id": "434781f5",
        "outputId": "7a6b99cc-9418-470d-ec0c-af6a0b0d4648"
      },
      "outputs": [
        {
          "output_type": "execute_result",
          "data": {
            "text/plain": [
              "3597"
            ]
          },
          "metadata": {},
          "execution_count": 18
        }
      ],
      "source": [
        "len(unique_nodes)"
      ]
    },
    {
      "cell_type": "code",
      "execution_count": 19,
      "id": "83b54d66",
      "metadata": {
        "execution": {
          "iopub.execute_input": "2022-03-11T06:31:05.486239Z",
          "iopub.status.busy": "2022-03-11T06:31:05.485397Z",
          "iopub.status.idle": "2022-03-11T06:31:05.488458Z",
          "shell.execute_reply": "2022-03-11T06:31:05.489033Z",
          "shell.execute_reply.started": "2022-03-08T12:38:14.873822Z"
        },
        "papermill": {
          "duration": 0.040951,
          "end_time": "2022-03-11T06:31:05.489218",
          "exception": false,
          "start_time": "2022-03-11T06:31:05.448267",
          "status": "completed"
        },
        "tags": [],
        "id": "83b54d66"
      },
      "outputs": [],
      "source": [
        "degree_list = nx.degree(g)"
      ]
    },
    {
      "cell_type": "code",
      "execution_count": 20,
      "id": "c0901bc7",
      "metadata": {
        "execution": {
          "iopub.execute_input": "2022-03-11T06:31:05.570211Z",
          "iopub.status.busy": "2022-03-11T06:31:05.558099Z",
          "iopub.status.idle": "2022-03-11T06:31:05.589217Z",
          "shell.execute_reply": "2022-03-11T06:31:05.588723Z",
          "shell.execute_reply.started": "2022-03-08T12:38:14.890529Z"
        },
        "papermill": {
          "duration": 0.066939,
          "end_time": "2022-03-11T06:31:05.589355",
          "exception": false,
          "start_time": "2022-03-11T06:31:05.522416",
          "status": "completed"
        },
        "tags": [],
        "id": "c0901bc7"
      },
      "outputs": [],
      "source": [
        "degCent = nx.degree_centrality(g)"
      ]
    },
    {
      "cell_type": "code",
      "execution_count": 21,
      "id": "c2bf6ca2",
      "metadata": {
        "execution": {
          "iopub.execute_input": "2022-03-11T06:31:05.660692Z",
          "iopub.status.busy": "2022-03-11T06:31:05.659774Z",
          "iopub.status.idle": "2022-03-11T06:31:46.966601Z",
          "shell.execute_reply": "2022-03-11T06:31:46.967344Z",
          "shell.execute_reply.started": "2022-03-08T12:38:14.93223Z"
        },
        "papermill": {
          "duration": 41.344607,
          "end_time": "2022-03-11T06:31:46.967573",
          "exception": false,
          "start_time": "2022-03-11T06:31:05.622966",
          "status": "completed"
        },
        "tags": [],
        "id": "c2bf6ca2"
      },
      "outputs": [],
      "source": [
        "betCent = nx.betweenness_centrality(g, normalized=True, endpoints=True, k = 50)"
      ]
    },
    {
      "cell_type": "code",
      "execution_count": 22,
      "id": "e37b821c",
      "metadata": {
        "execution": {
          "iopub.execute_input": "2022-03-11T06:31:47.040622Z",
          "iopub.status.busy": "2022-03-11T06:31:47.038363Z",
          "iopub.status.idle": "2022-03-11T06:31:48.830588Z",
          "shell.execute_reply": "2022-03-11T06:31:48.831374Z",
          "shell.execute_reply.started": "2022-03-08T12:39:14.735126Z"
        },
        "papermill": {
          "duration": 1.829247,
          "end_time": "2022-03-11T06:31:48.831649",
          "exception": false,
          "start_time": "2022-03-11T06:31:47.002402",
          "status": "completed"
        },
        "tags": [],
        "id": "e37b821c"
      },
      "outputs": [],
      "source": [
        "hubs_dict, auth_dict = nx.hits(g)"
      ]
    },
    {
      "cell_type": "code",
      "execution_count": 23,
      "id": "5b24c714",
      "metadata": {
        "execution": {
          "iopub.execute_input": "2022-03-11T06:31:48.947873Z",
          "iopub.status.busy": "2022-03-11T06:31:48.942578Z",
          "iopub.status.idle": "2022-03-11T06:31:48.967477Z",
          "shell.execute_reply": "2022-03-11T06:31:48.966941Z",
          "shell.execute_reply.started": "2022-03-08T12:39:16.590119Z"
        },
        "papermill": {
          "duration": 0.069187,
          "end_time": "2022-03-11T06:31:48.967628",
          "exception": false,
          "start_time": "2022-03-11T06:31:48.898441",
          "status": "completed"
        },
        "tags": [],
        "colab": {
          "base_uri": "https://localhost:8080/"
        },
        "id": "5b24c714",
        "outputId": "7e40e6e2-e892-458d-9b9a-287f7f595e18"
      },
      "outputs": [
        {
          "output_type": "execute_result",
          "data": {
            "text/plain": [
              "3597"
            ]
          },
          "metadata": {},
          "execution_count": 23
        }
      ],
      "source": [
        "degree_dict = {}\n",
        "\n",
        "for x,y  in degree_list  :\n",
        "    degree_dict[x] = y\n",
        "    \n",
        "len(degree_dict)"
      ]
    },
    {
      "cell_type": "code",
      "execution_count": 24,
      "id": "e0d54f3d",
      "metadata": {
        "execution": {
          "iopub.execute_input": "2022-03-11T06:31:49.244610Z",
          "iopub.status.busy": "2022-03-11T06:31:49.243814Z",
          "iopub.status.idle": "2022-03-11T06:31:49.247262Z",
          "shell.execute_reply": "2022-03-11T06:31:49.247804Z",
          "shell.execute_reply.started": "2022-03-08T12:39:16.656793Z"
        },
        "papermill": {
          "duration": 0.244137,
          "end_time": "2022-03-11T06:31:49.247986",
          "exception": false,
          "start_time": "2022-03-11T06:31:49.003849",
          "status": "completed"
        },
        "tags": [],
        "id": "e0d54f3d"
      },
      "outputs": [],
      "source": [
        "final_data_list = []\n",
        "def transform_data(df, add_link = True) :\n",
        "    \n",
        "    for index, row in df.iterrows():\n",
        "        src = row['Source']\n",
        "        tgt = row['Target']\n",
        "        \n",
        "        data_list = []\n",
        "        data_list.append(pr_dict[src])\n",
        "        data_list.append(hubs_dict[src])\n",
        "        data_list.append(auth_dict[src])\n",
        "        data_list.append(degCent[src])\n",
        "        data_list.append(betCent[src])\n",
        "        data_list.append(degree_dict[src])\n",
        "        data_list.append(pr_dict[tgt])\n",
        "        data_list.append(hubs_dict[tgt])\n",
        "        data_list.append(auth_dict[tgt])\n",
        "        data_list.append(degCent[tgt])\n",
        "        data_list.append(betCent[tgt])\n",
        "        data_list.append(degree_dict[tgt])\n",
        "        if add_link == True :\n",
        "            data_list.append(row['Link'])\n",
        "        \n",
        "        final_data_list.append(data_list)\n",
        "    if add_link == True :\n",
        "        col_list = ['SrcPageRank','SrcHubs', 'SrcAuth','SrcDegCnt','SrcBetCnt','SrcDeg',\n",
        "           'TgtPageRank','TgtHubs', 'TgtAuth','TgtDegCnt','TgtBetCnt','TgtDeg',\n",
        "           'Link']\n",
        "        new_df = pd.DataFrame(final_data_list, columns = col_list)        \n",
        "    else :\n",
        "        col_list = ['SrcPageRank','SrcHubs', 'SrcAuth','SrcDegCnt','SrcBetCnt','SrcDeg',\n",
        "           'TgtPageRank','TgtHubs', 'TgtAuth','TgtDegCnt','TgtBetCnt','TgtDeg']\n",
        "        new_df = pd.DataFrame(final_data_list, columns = col_list)        \n",
        "    return new_df\n",
        "              \n"
      ]
    },
    {
      "cell_type": "code",
      "execution_count": 25,
      "id": "44169868",
      "metadata": {
        "execution": {
          "iopub.execute_input": "2022-03-11T06:31:49.327836Z",
          "iopub.status.busy": "2022-03-11T06:31:49.326867Z",
          "iopub.status.idle": "2022-03-11T06:32:15.810708Z",
          "shell.execute_reply": "2022-03-11T06:32:15.811190Z",
          "shell.execute_reply.started": "2022-03-08T12:39:16.669789Z"
        },
        "papermill": {
          "duration": 26.522763,
          "end_time": "2022-03-11T06:32:15.811367",
          "exception": false,
          "start_time": "2022-03-11T06:31:49.288604",
          "status": "completed"
        },
        "tags": [],
        "colab": {
          "base_uri": "https://localhost:8080/"
        },
        "id": "44169868",
        "outputId": "74315118-1087-4b53-982d-b5192549a717"
      },
      "outputs": [
        {
          "output_type": "stream",
          "name": "stdout",
          "text": [
            "10496\n",
            "10496\n"
          ]
        }
      ],
      "source": [
        "new_df = transform_data(data)        \n",
        "print(len(final_data_list))        \n",
        "print(len(new_df))"
      ]
    },
    {
      "cell_type": "code",
      "execution_count": 26,
      "id": "fcae287e",
      "metadata": {
        "execution": {
          "iopub.execute_input": "2022-03-11T06:32:15.888792Z",
          "iopub.status.busy": "2022-03-11T06:32:15.887675Z",
          "iopub.status.idle": "2022-03-11T06:32:15.911901Z",
          "shell.execute_reply": "2022-03-11T06:32:15.912560Z",
          "shell.execute_reply.started": "2022-03-08T12:39:49.967095Z"
        },
        "papermill": {
          "duration": 0.066418,
          "end_time": "2022-03-11T06:32:15.912788",
          "exception": false,
          "start_time": "2022-03-11T06:32:15.846370",
          "status": "completed"
        },
        "tags": [],
        "colab": {
          "base_uri": "https://localhost:8080/"
        },
        "id": "fcae287e",
        "outputId": "76c2f06a-7839-4b98-85ec-59cf0887a882"
      },
      "outputs": [
        {
          "output_type": "stream",
          "name": "stdout",
          "text": [
            "<class 'pandas.core.frame.DataFrame'>\n",
            "RangeIndex: 10496 entries, 0 to 10495\n",
            "Data columns (total 13 columns):\n",
            " #   Column       Non-Null Count  Dtype  \n",
            "---  ------       --------------  -----  \n",
            " 0   SrcPageRank  10496 non-null  float64\n",
            " 1   SrcHubs      10496 non-null  float64\n",
            " 2   SrcAuth      10496 non-null  float64\n",
            " 3   SrcDegCnt    10496 non-null  float64\n",
            " 4   SrcBetCnt    10496 non-null  float64\n",
            " 5   SrcDeg       10496 non-null  int64  \n",
            " 6   TgtPageRank  10496 non-null  float64\n",
            " 7   TgtHubs      10496 non-null  float64\n",
            " 8   TgtAuth      10496 non-null  float64\n",
            " 9   TgtDegCnt    10496 non-null  float64\n",
            " 10  TgtBetCnt    10496 non-null  float64\n",
            " 11  TgtDeg       10496 non-null  int64  \n",
            " 12  Link         10496 non-null  int64  \n",
            "dtypes: float64(10), int64(3)\n",
            "memory usage: 1.0 MB\n"
          ]
        }
      ],
      "source": [
        "new_df.info()"
      ]
    },
    {
      "cell_type": "code",
      "execution_count": 27,
      "id": "00729422",
      "metadata": {
        "execution": {
          "iopub.execute_input": "2022-03-11T06:32:15.991891Z",
          "iopub.status.busy": "2022-03-11T06:32:15.990454Z",
          "iopub.status.idle": "2022-03-11T06:32:16.252888Z",
          "shell.execute_reply": "2022-03-11T06:32:16.252426Z",
          "shell.execute_reply.started": "2022-03-08T12:39:50.005782Z"
        },
        "papermill": {
          "duration": 0.303405,
          "end_time": "2022-03-11T06:32:16.253034",
          "exception": false,
          "start_time": "2022-03-11T06:32:15.949629",
          "status": "completed"
        },
        "tags": [],
        "colab": {
          "base_uri": "https://localhost:8080/",
          "height": 457
        },
        "id": "00729422",
        "outputId": "a177ee83-ed85-4df9-b9d3-95d22cb7031a"
      },
      "outputs": [
        {
          "output_type": "execute_result",
          "data": {
            "text/plain": [
              "             SrcPageRank   SrcHubs   SrcAuth  SrcDegCnt  SrcBetCnt    SrcDeg  \\\n",
              "SrcPageRank     1.000000  0.654600  0.654600   0.990984   0.865327  0.990984   \n",
              "SrcHubs         0.654600  1.000000  1.000000   0.624665   0.556375  0.624665   \n",
              "SrcAuth         0.654600  1.000000  1.000000   0.624665   0.556375  0.624665   \n",
              "SrcDegCnt       0.990984  0.624665  0.624665   1.000000   0.875160  1.000000   \n",
              "SrcBetCnt       0.865327  0.556375  0.556375   0.875160   1.000000  0.875160   \n",
              "SrcDeg          0.990984  0.624665  0.624665   1.000000   0.875160  1.000000   \n",
              "TgtPageRank    -0.026690  0.306647  0.306647  -0.027793  -0.012399 -0.027793   \n",
              "TgtHubs        -0.027217  0.313975  0.313975  -0.030067  -0.015230 -0.030067   \n",
              "TgtAuth        -0.027217  0.313975  0.313975  -0.030067  -0.015230 -0.030067   \n",
              "TgtDegCnt      -0.024592  0.306293  0.306293  -0.024732  -0.009865 -0.024732   \n",
              "TgtBetCnt      -0.021916  0.306709  0.306709  -0.022650  -0.000518 -0.022650   \n",
              "TgtDeg         -0.024592  0.306293  0.306293  -0.024732  -0.009865 -0.024732   \n",
              "Link            0.137239  0.025835  0.025835   0.161704   0.133318  0.161704   \n",
              "\n",
              "             TgtPageRank   TgtHubs   TgtAuth  TgtDegCnt  TgtBetCnt    TgtDeg  \\\n",
              "SrcPageRank    -0.026690 -0.027217 -0.027217  -0.024592  -0.021916 -0.024592   \n",
              "SrcHubs         0.306647  0.313975  0.313975   0.306293   0.306709  0.306293   \n",
              "SrcAuth         0.306647  0.313975  0.313975   0.306293   0.306709  0.306293   \n",
              "SrcDegCnt      -0.027793 -0.030067 -0.030067  -0.024732  -0.022650 -0.024732   \n",
              "SrcBetCnt      -0.012399 -0.015230 -0.015230  -0.009865  -0.000518 -0.009865   \n",
              "SrcDeg         -0.027793 -0.030067 -0.030067  -0.024732  -0.022650 -0.024732   \n",
              "TgtPageRank     1.000000  0.995122  0.995122   0.999660   0.996174  0.999660   \n",
              "TgtHubs         0.995122  1.000000  1.000000   0.993123   0.989483  0.993123   \n",
              "TgtAuth         0.995122  1.000000  1.000000   0.993123   0.989483  0.993123   \n",
              "TgtDegCnt       0.999660  0.993123  0.993123   1.000000   0.996575  1.000000   \n",
              "TgtBetCnt       0.996174  0.989483  0.989483   0.996575   1.000000  0.996575   \n",
              "TgtDeg          0.999660  0.993123  0.993123   1.000000   0.996575  1.000000   \n",
              "Link            0.222758  0.188945  0.188945   0.230747   0.228172  0.230747   \n",
              "\n",
              "                 Link  \n",
              "SrcPageRank  0.137239  \n",
              "SrcHubs      0.025835  \n",
              "SrcAuth      0.025835  \n",
              "SrcDegCnt    0.161704  \n",
              "SrcBetCnt    0.133318  \n",
              "SrcDeg       0.161704  \n",
              "TgtPageRank  0.222758  \n",
              "TgtHubs      0.188945  \n",
              "TgtAuth      0.188945  \n",
              "TgtDegCnt    0.230747  \n",
              "TgtBetCnt    0.228172  \n",
              "TgtDeg       0.230747  \n",
              "Link         1.000000  "
            ],
            "text/html": [
              "\n",
              "  <div id=\"df-7b26834a-1af6-4d94-ba7d-dbf236db9858\">\n",
              "    <div class=\"colab-df-container\">\n",
              "      <div>\n",
              "<style scoped>\n",
              "    .dataframe tbody tr th:only-of-type {\n",
              "        vertical-align: middle;\n",
              "    }\n",
              "\n",
              "    .dataframe tbody tr th {\n",
              "        vertical-align: top;\n",
              "    }\n",
              "\n",
              "    .dataframe thead th {\n",
              "        text-align: right;\n",
              "    }\n",
              "</style>\n",
              "<table border=\"1\" class=\"dataframe\">\n",
              "  <thead>\n",
              "    <tr style=\"text-align: right;\">\n",
              "      <th></th>\n",
              "      <th>SrcPageRank</th>\n",
              "      <th>SrcHubs</th>\n",
              "      <th>SrcAuth</th>\n",
              "      <th>SrcDegCnt</th>\n",
              "      <th>SrcBetCnt</th>\n",
              "      <th>SrcDeg</th>\n",
              "      <th>TgtPageRank</th>\n",
              "      <th>TgtHubs</th>\n",
              "      <th>TgtAuth</th>\n",
              "      <th>TgtDegCnt</th>\n",
              "      <th>TgtBetCnt</th>\n",
              "      <th>TgtDeg</th>\n",
              "      <th>Link</th>\n",
              "    </tr>\n",
              "  </thead>\n",
              "  <tbody>\n",
              "    <tr>\n",
              "      <th>SrcPageRank</th>\n",
              "      <td>1.000000</td>\n",
              "      <td>0.654600</td>\n",
              "      <td>0.654600</td>\n",
              "      <td>0.990984</td>\n",
              "      <td>0.865327</td>\n",
              "      <td>0.990984</td>\n",
              "      <td>-0.026690</td>\n",
              "      <td>-0.027217</td>\n",
              "      <td>-0.027217</td>\n",
              "      <td>-0.024592</td>\n",
              "      <td>-0.021916</td>\n",
              "      <td>-0.024592</td>\n",
              "      <td>0.137239</td>\n",
              "    </tr>\n",
              "    <tr>\n",
              "      <th>SrcHubs</th>\n",
              "      <td>0.654600</td>\n",
              "      <td>1.000000</td>\n",
              "      <td>1.000000</td>\n",
              "      <td>0.624665</td>\n",
              "      <td>0.556375</td>\n",
              "      <td>0.624665</td>\n",
              "      <td>0.306647</td>\n",
              "      <td>0.313975</td>\n",
              "      <td>0.313975</td>\n",
              "      <td>0.306293</td>\n",
              "      <td>0.306709</td>\n",
              "      <td>0.306293</td>\n",
              "      <td>0.025835</td>\n",
              "    </tr>\n",
              "    <tr>\n",
              "      <th>SrcAuth</th>\n",
              "      <td>0.654600</td>\n",
              "      <td>1.000000</td>\n",
              "      <td>1.000000</td>\n",
              "      <td>0.624665</td>\n",
              "      <td>0.556375</td>\n",
              "      <td>0.624665</td>\n",
              "      <td>0.306647</td>\n",
              "      <td>0.313975</td>\n",
              "      <td>0.313975</td>\n",
              "      <td>0.306293</td>\n",
              "      <td>0.306709</td>\n",
              "      <td>0.306293</td>\n",
              "      <td>0.025835</td>\n",
              "    </tr>\n",
              "    <tr>\n",
              "      <th>SrcDegCnt</th>\n",
              "      <td>0.990984</td>\n",
              "      <td>0.624665</td>\n",
              "      <td>0.624665</td>\n",
              "      <td>1.000000</td>\n",
              "      <td>0.875160</td>\n",
              "      <td>1.000000</td>\n",
              "      <td>-0.027793</td>\n",
              "      <td>-0.030067</td>\n",
              "      <td>-0.030067</td>\n",
              "      <td>-0.024732</td>\n",
              "      <td>-0.022650</td>\n",
              "      <td>-0.024732</td>\n",
              "      <td>0.161704</td>\n",
              "    </tr>\n",
              "    <tr>\n",
              "      <th>SrcBetCnt</th>\n",
              "      <td>0.865327</td>\n",
              "      <td>0.556375</td>\n",
              "      <td>0.556375</td>\n",
              "      <td>0.875160</td>\n",
              "      <td>1.000000</td>\n",
              "      <td>0.875160</td>\n",
              "      <td>-0.012399</td>\n",
              "      <td>-0.015230</td>\n",
              "      <td>-0.015230</td>\n",
              "      <td>-0.009865</td>\n",
              "      <td>-0.000518</td>\n",
              "      <td>-0.009865</td>\n",
              "      <td>0.133318</td>\n",
              "    </tr>\n",
              "    <tr>\n",
              "      <th>SrcDeg</th>\n",
              "      <td>0.990984</td>\n",
              "      <td>0.624665</td>\n",
              "      <td>0.624665</td>\n",
              "      <td>1.000000</td>\n",
              "      <td>0.875160</td>\n",
              "      <td>1.000000</td>\n",
              "      <td>-0.027793</td>\n",
              "      <td>-0.030067</td>\n",
              "      <td>-0.030067</td>\n",
              "      <td>-0.024732</td>\n",
              "      <td>-0.022650</td>\n",
              "      <td>-0.024732</td>\n",
              "      <td>0.161704</td>\n",
              "    </tr>\n",
              "    <tr>\n",
              "      <th>TgtPageRank</th>\n",
              "      <td>-0.026690</td>\n",
              "      <td>0.306647</td>\n",
              "      <td>0.306647</td>\n",
              "      <td>-0.027793</td>\n",
              "      <td>-0.012399</td>\n",
              "      <td>-0.027793</td>\n",
              "      <td>1.000000</td>\n",
              "      <td>0.995122</td>\n",
              "      <td>0.995122</td>\n",
              "      <td>0.999660</td>\n",
              "      <td>0.996174</td>\n",
              "      <td>0.999660</td>\n",
              "      <td>0.222758</td>\n",
              "    </tr>\n",
              "    <tr>\n",
              "      <th>TgtHubs</th>\n",
              "      <td>-0.027217</td>\n",
              "      <td>0.313975</td>\n",
              "      <td>0.313975</td>\n",
              "      <td>-0.030067</td>\n",
              "      <td>-0.015230</td>\n",
              "      <td>-0.030067</td>\n",
              "      <td>0.995122</td>\n",
              "      <td>1.000000</td>\n",
              "      <td>1.000000</td>\n",
              "      <td>0.993123</td>\n",
              "      <td>0.989483</td>\n",
              "      <td>0.993123</td>\n",
              "      <td>0.188945</td>\n",
              "    </tr>\n",
              "    <tr>\n",
              "      <th>TgtAuth</th>\n",
              "      <td>-0.027217</td>\n",
              "      <td>0.313975</td>\n",
              "      <td>0.313975</td>\n",
              "      <td>-0.030067</td>\n",
              "      <td>-0.015230</td>\n",
              "      <td>-0.030067</td>\n",
              "      <td>0.995122</td>\n",
              "      <td>1.000000</td>\n",
              "      <td>1.000000</td>\n",
              "      <td>0.993123</td>\n",
              "      <td>0.989483</td>\n",
              "      <td>0.993123</td>\n",
              "      <td>0.188945</td>\n",
              "    </tr>\n",
              "    <tr>\n",
              "      <th>TgtDegCnt</th>\n",
              "      <td>-0.024592</td>\n",
              "      <td>0.306293</td>\n",
              "      <td>0.306293</td>\n",
              "      <td>-0.024732</td>\n",
              "      <td>-0.009865</td>\n",
              "      <td>-0.024732</td>\n",
              "      <td>0.999660</td>\n",
              "      <td>0.993123</td>\n",
              "      <td>0.993123</td>\n",
              "      <td>1.000000</td>\n",
              "      <td>0.996575</td>\n",
              "      <td>1.000000</td>\n",
              "      <td>0.230747</td>\n",
              "    </tr>\n",
              "    <tr>\n",
              "      <th>TgtBetCnt</th>\n",
              "      <td>-0.021916</td>\n",
              "      <td>0.306709</td>\n",
              "      <td>0.306709</td>\n",
              "      <td>-0.022650</td>\n",
              "      <td>-0.000518</td>\n",
              "      <td>-0.022650</td>\n",
              "      <td>0.996174</td>\n",
              "      <td>0.989483</td>\n",
              "      <td>0.989483</td>\n",
              "      <td>0.996575</td>\n",
              "      <td>1.000000</td>\n",
              "      <td>0.996575</td>\n",
              "      <td>0.228172</td>\n",
              "    </tr>\n",
              "    <tr>\n",
              "      <th>TgtDeg</th>\n",
              "      <td>-0.024592</td>\n",
              "      <td>0.306293</td>\n",
              "      <td>0.306293</td>\n",
              "      <td>-0.024732</td>\n",
              "      <td>-0.009865</td>\n",
              "      <td>-0.024732</td>\n",
              "      <td>0.999660</td>\n",
              "      <td>0.993123</td>\n",
              "      <td>0.993123</td>\n",
              "      <td>1.000000</td>\n",
              "      <td>0.996575</td>\n",
              "      <td>1.000000</td>\n",
              "      <td>0.230747</td>\n",
              "    </tr>\n",
              "    <tr>\n",
              "      <th>Link</th>\n",
              "      <td>0.137239</td>\n",
              "      <td>0.025835</td>\n",
              "      <td>0.025835</td>\n",
              "      <td>0.161704</td>\n",
              "      <td>0.133318</td>\n",
              "      <td>0.161704</td>\n",
              "      <td>0.222758</td>\n",
              "      <td>0.188945</td>\n",
              "      <td>0.188945</td>\n",
              "      <td>0.230747</td>\n",
              "      <td>0.228172</td>\n",
              "      <td>0.230747</td>\n",
              "      <td>1.000000</td>\n",
              "    </tr>\n",
              "  </tbody>\n",
              "</table>\n",
              "</div>\n",
              "      <button class=\"colab-df-convert\" onclick=\"convertToInteractive('df-7b26834a-1af6-4d94-ba7d-dbf236db9858')\"\n",
              "              title=\"Convert this dataframe to an interactive table.\"\n",
              "              style=\"display:none;\">\n",
              "        \n",
              "  <svg xmlns=\"http://www.w3.org/2000/svg\" height=\"24px\"viewBox=\"0 0 24 24\"\n",
              "       width=\"24px\">\n",
              "    <path d=\"M0 0h24v24H0V0z\" fill=\"none\"/>\n",
              "    <path d=\"M18.56 5.44l.94 2.06.94-2.06 2.06-.94-2.06-.94-.94-2.06-.94 2.06-2.06.94zm-11 1L8.5 8.5l.94-2.06 2.06-.94-2.06-.94L8.5 2.5l-.94 2.06-2.06.94zm10 10l.94 2.06.94-2.06 2.06-.94-2.06-.94-.94-2.06-.94 2.06-2.06.94z\"/><path d=\"M17.41 7.96l-1.37-1.37c-.4-.4-.92-.59-1.43-.59-.52 0-1.04.2-1.43.59L10.3 9.45l-7.72 7.72c-.78.78-.78 2.05 0 2.83L4 21.41c.39.39.9.59 1.41.59.51 0 1.02-.2 1.41-.59l7.78-7.78 2.81-2.81c.8-.78.8-2.07 0-2.86zM5.41 20L4 18.59l7.72-7.72 1.47 1.35L5.41 20z\"/>\n",
              "  </svg>\n",
              "      </button>\n",
              "      \n",
              "  <style>\n",
              "    .colab-df-container {\n",
              "      display:flex;\n",
              "      flex-wrap:wrap;\n",
              "      gap: 12px;\n",
              "    }\n",
              "\n",
              "    .colab-df-convert {\n",
              "      background-color: #E8F0FE;\n",
              "      border: none;\n",
              "      border-radius: 50%;\n",
              "      cursor: pointer;\n",
              "      display: none;\n",
              "      fill: #1967D2;\n",
              "      height: 32px;\n",
              "      padding: 0 0 0 0;\n",
              "      width: 32px;\n",
              "    }\n",
              "\n",
              "    .colab-df-convert:hover {\n",
              "      background-color: #E2EBFA;\n",
              "      box-shadow: 0px 1px 2px rgba(60, 64, 67, 0.3), 0px 1px 3px 1px rgba(60, 64, 67, 0.15);\n",
              "      fill: #174EA6;\n",
              "    }\n",
              "\n",
              "    [theme=dark] .colab-df-convert {\n",
              "      background-color: #3B4455;\n",
              "      fill: #D2E3FC;\n",
              "    }\n",
              "\n",
              "    [theme=dark] .colab-df-convert:hover {\n",
              "      background-color: #434B5C;\n",
              "      box-shadow: 0px 1px 3px 1px rgba(0, 0, 0, 0.15);\n",
              "      filter: drop-shadow(0px 1px 2px rgba(0, 0, 0, 0.3));\n",
              "      fill: #FFFFFF;\n",
              "    }\n",
              "  </style>\n",
              "\n",
              "      <script>\n",
              "        const buttonEl =\n",
              "          document.querySelector('#df-7b26834a-1af6-4d94-ba7d-dbf236db9858 button.colab-df-convert');\n",
              "        buttonEl.style.display =\n",
              "          google.colab.kernel.accessAllowed ? 'block' : 'none';\n",
              "\n",
              "        async function convertToInteractive(key) {\n",
              "          const element = document.querySelector('#df-7b26834a-1af6-4d94-ba7d-dbf236db9858');\n",
              "          const dataTable =\n",
              "            await google.colab.kernel.invokeFunction('convertToInteractive',\n",
              "                                                     [key], {});\n",
              "          if (!dataTable) return;\n",
              "\n",
              "          const docLinkHtml = 'Like what you see? Visit the ' +\n",
              "            '<a target=\"_blank\" href=https://colab.research.google.com/notebooks/data_table.ipynb>data table notebook</a>'\n",
              "            + ' to learn more about interactive tables.';\n",
              "          element.innerHTML = '';\n",
              "          dataTable['output_type'] = 'display_data';\n",
              "          await google.colab.output.renderOutput(dataTable, element);\n",
              "          const docLink = document.createElement('div');\n",
              "          docLink.innerHTML = docLinkHtml;\n",
              "          element.appendChild(docLink);\n",
              "        }\n",
              "      </script>\n",
              "    </div>\n",
              "  </div>\n",
              "  "
            ]
          },
          "metadata": {},
          "execution_count": 27
        }
      ],
      "source": [
        "new_df.corr()"
      ]
    },
    {
      "cell_type": "code",
      "execution_count": 28,
      "id": "4038d3c4",
      "metadata": {
        "execution": {
          "iopub.execute_input": "2022-03-11T06:32:16.328051Z",
          "iopub.status.busy": "2022-03-11T06:32:16.327456Z",
          "iopub.status.idle": "2022-03-11T06:32:16.331250Z",
          "shell.execute_reply": "2022-03-11T06:32:16.331704Z",
          "shell.execute_reply.started": "2022-03-08T12:39:50.278714Z"
        },
        "papermill": {
          "duration": 0.043111,
          "end_time": "2022-03-11T06:32:16.331852",
          "exception": false,
          "start_time": "2022-03-11T06:32:16.288741",
          "status": "completed"
        },
        "tags": [],
        "colab": {
          "base_uri": "https://localhost:8080/"
        },
        "id": "4038d3c4",
        "outputId": "1a2adb47-90db-4d60-f5b1-b959786bfe91"
      },
      "outputs": [
        {
          "output_type": "execute_result",
          "data": {
            "text/plain": [
              "(10496, 13)"
            ]
          },
          "metadata": {},
          "execution_count": 28
        }
      ],
      "source": [
        "new_df.shape"
      ]
    },
    {
      "cell_type": "markdown",
      "source": [
        "## Modelling"
      ],
      "metadata": {
        "id": "nfZgrhTIxKjq"
      },
      "id": "nfZgrhTIxKjq"
    },
    {
      "cell_type": "code",
      "execution_count": 29,
      "id": "f445a9e1",
      "metadata": {
        "execution": {
          "iopub.execute_input": "2022-03-11T06:32:16.407456Z",
          "iopub.status.busy": "2022-03-11T06:32:16.406854Z",
          "iopub.status.idle": "2022-03-11T06:32:17.592306Z",
          "shell.execute_reply": "2022-03-11T06:32:17.592776Z",
          "shell.execute_reply.started": "2022-03-08T12:39:50.285989Z"
        },
        "papermill": {
          "duration": 1.224714,
          "end_time": "2022-03-11T06:32:17.592936",
          "exception": false,
          "start_time": "2022-03-11T06:32:16.368222",
          "status": "completed"
        },
        "tags": [],
        "colab": {
          "base_uri": "https://localhost:8080/"
        },
        "id": "f445a9e1",
        "outputId": "88462490-3159-48dc-f353-17d3f26a881c"
      },
      "outputs": [
        {
          "output_type": "stream",
          "name": "stdout",
          "text": [
            "(9446, 12)\n",
            "(1050, 12)\n"
          ]
        }
      ],
      "source": [
        "from sklearn.model_selection import train_test_split\n",
        "from sklearn.model_selection import cross_val_score\n",
        "X = new_df.drop('Link', axis =1)\n",
        "y = new_df['Link']\n",
        "X_train, X_test, y_train, y_test = train_test_split( X,y , test_size = 0.1, random_state = 0) \n",
        "print(X_train.shape)\n",
        "print(X_test.shape)"
      ]
    },
    {
      "cell_type": "code",
      "execution_count": 30,
      "id": "d0cc8464",
      "metadata": {
        "execution": {
          "iopub.execute_input": "2022-03-11T06:32:17.668975Z",
          "iopub.status.busy": "2022-03-11T06:32:17.668364Z",
          "iopub.status.idle": "2022-03-11T06:36:56.195146Z",
          "shell.execute_reply": "2022-03-11T06:36:56.195642Z",
          "shell.execute_reply.started": "2022-03-08T12:40:19.130476Z"
        },
        "papermill": {
          "duration": 278.566397,
          "end_time": "2022-03-11T06:36:56.195812",
          "exception": false,
          "start_time": "2022-03-11T06:32:17.629415",
          "status": "completed"
        },
        "tags": [],
        "id": "d0cc8464"
      },
      "outputs": [],
      "source": [
        "from sklearn.ensemble import GradientBoostingClassifier  \n",
        "import xgboost\n",
        "from lightgbm import LGBMClassifier\n",
        "# classifier = GradientBoostingClassifier()  \n",
        "\n",
        "classifier = xgboost.XGBClassifier()\n",
        "\n",
        "# First Submission\n",
        "# classifier = LGBMClassifier(\n",
        "#             nthread=4,\n",
        "#             n_estimators=10000,\n",
        "#             learning_rate=0.02,\n",
        "#             num_leaves=34,\n",
        "#             colsample_bytree=0.9497036,\n",
        "#             subsample=0.8715623,\n",
        "#             max_depth=8,\n",
        "#             reg_alpha=0.041545473,\n",
        "#             reg_lambda=0.0735294,\n",
        "#             min_split_gain=0.0222415,\n",
        "#             min_child_weight=39.3259775,\n",
        "#             silent=-1,\n",
        "#             verbose=-1 )\n",
        "\n",
        "\n",
        "classifier.fit(X_train, y_train )\n",
        "\n",
        "y_train_pred = classifier.predict(X_train)\n",
        "y_test_pred = classifier.predict(X_test) "
      ]
    },
    {
      "cell_type": "code",
      "execution_count": 31,
      "id": "6f3e0e51",
      "metadata": {
        "execution": {
          "iopub.execute_input": "2022-03-11T06:36:56.275125Z",
          "iopub.status.busy": "2022-03-11T06:36:56.274262Z",
          "iopub.status.idle": "2022-03-11T06:36:56.318245Z",
          "shell.execute_reply": "2022-03-11T06:36:56.317629Z",
          "shell.execute_reply.started": "2022-03-08T12:46:16.72862Z"
        },
        "papermill": {
          "duration": 0.084516,
          "end_time": "2022-03-11T06:36:56.318378",
          "exception": false,
          "start_time": "2022-03-11T06:36:56.233862",
          "status": "completed"
        },
        "tags": [],
        "colab": {
          "base_uri": "https://localhost:8080/"
        },
        "id": "6f3e0e51",
        "outputId": "0106e07b-d027-4236-9acd-de487e444508"
      },
      "outputs": [
        {
          "output_type": "stream",
          "name": "stdout",
          "text": [
            "Accuracy for Train data 97.52276095701885 %\n",
            "Accuracy for Test data 91.04761904761904 %\n"
          ]
        }
      ],
      "source": [
        "from sklearn.metrics import accuracy_score\n",
        "train_acc = accuracy_score(y_train,y_train_pred)\n",
        "test_acc = accuracy_score(y_test,y_test_pred)\n",
        "print(\"Accuracy for Train data {} %\".format(train_acc*100))\n",
        "print(\"Accuracy for Test data {} %\".format(test_acc*100))"
      ]
    },
    {
      "cell_type": "code",
      "execution_count": 32,
      "id": "ba98674f",
      "metadata": {
        "execution": {
          "iopub.execute_input": "2022-03-11T06:36:56.399941Z",
          "iopub.status.busy": "2022-03-11T06:36:56.399344Z",
          "iopub.status.idle": "2022-03-11T06:36:56.478699Z",
          "shell.execute_reply": "2022-03-11T06:36:56.479138Z",
          "shell.execute_reply.started": "2022-03-08T12:46:16.774868Z"
        },
        "papermill": {
          "duration": 0.122368,
          "end_time": "2022-03-11T06:36:56.479303",
          "exception": false,
          "start_time": "2022-03-11T06:36:56.356935",
          "status": "completed"
        },
        "tags": [],
        "colab": {
          "base_uri": "https://localhost:8080/"
        },
        "id": "ba98674f",
        "outputId": "2ae9e4e4-7b42-4d44-e968-efa99333a9dc"
      },
      "outputs": [
        {
          "output_type": "stream",
          "name": "stdout",
          "text": [
            "Balanced accuracy for Train data 97.52047187249178 %\n",
            "Balanced accuracy for Test data 91.08309143686502 %\n"
          ]
        }
      ],
      "source": [
        "from sklearn.metrics import balanced_accuracy_score\n",
        "\n",
        "print('Balanced accuracy for Train data {} %'.format(balanced_accuracy_score(y_train,y_train_pred)*100))\n",
        "print('Balanced accuracy for Test data {} %'.format(balanced_accuracy_score(y_test,y_test_pred)*100))"
      ]
    },
    {
      "cell_type": "code",
      "execution_count": 33,
      "id": "be696a86",
      "metadata": {
        "execution": {
          "iopub.execute_input": "2022-03-11T06:36:56.562893Z",
          "iopub.status.busy": "2022-03-11T06:36:56.562316Z",
          "iopub.status.idle": "2022-03-11T06:36:56.642455Z",
          "shell.execute_reply": "2022-03-11T06:36:56.641728Z",
          "shell.execute_reply.started": "2022-03-08T12:46:16.861409Z"
        },
        "papermill": {
          "duration": 0.125036,
          "end_time": "2022-03-11T06:36:56.642634",
          "exception": false,
          "start_time": "2022-03-11T06:36:56.517598",
          "status": "completed"
        },
        "tags": [],
        "colab": {
          "base_uri": "https://localhost:8080/"
        },
        "id": "be696a86",
        "outputId": "26767d46-347a-48d5-cc5e-f8b7fb0595f3"
      },
      "outputs": [
        {
          "output_type": "stream",
          "name": "stdout",
          "text": [
            "Confusion Matrix for Train data :\n",
            " [[4499  219]\n",
            " [  15 4713]]\n",
            "Confusion Matrix for Test data :\n",
            " [[463  67]\n",
            " [ 27 493]]\n"
          ]
        }
      ],
      "source": [
        "from sklearn.metrics import confusion_matrix\n",
        "train_cm = confusion_matrix(y_train,y_train_pred)\n",
        "test_cm = confusion_matrix(y_test,y_test_pred)\n",
        "print(\"Confusion Matrix for Train data :\\n\" , train_cm)\n",
        "print(\"Confusion Matrix for Test data :\\n\" , test_cm)"
      ]
    },
    {
      "cell_type": "code",
      "execution_count": 34,
      "id": "3a4af2e0",
      "metadata": {
        "execution": {
          "iopub.execute_input": "2022-03-11T06:36:56.727117Z",
          "iopub.status.busy": "2022-03-11T06:36:56.726157Z",
          "iopub.status.idle": "2022-03-11T06:36:57.546767Z",
          "shell.execute_reply": "2022-03-11T06:36:57.546190Z",
          "shell.execute_reply.started": "2022-03-08T12:46:16.946049Z"
        },
        "papermill": {
          "duration": 0.864568,
          "end_time": "2022-03-11T06:36:57.546910",
          "exception": false,
          "start_time": "2022-03-11T06:36:56.682342",
          "status": "completed"
        },
        "tags": [],
        "colab": {
          "base_uri": "https://localhost:8080/"
        },
        "id": "3a4af2e0",
        "outputId": "2fc3104e-5c9f-4100-9c1b-29eb93acce7d"
      },
      "outputs": [
        {
          "output_type": "stream",
          "name": "stdout",
          "text": [
            "Classification Report on Train Data\n",
            "               precision    recall  f1-score   support\n",
            "\n",
            "           0       1.00      0.95      0.97      4718\n",
            "           1       0.96      1.00      0.98      4728\n",
            "\n",
            "    accuracy                           0.98      9446\n",
            "   macro avg       0.98      0.98      0.98      9446\n",
            "weighted avg       0.98      0.98      0.98      9446\n",
            "\n",
            "Confusion Matrix on Train Data\n",
            " [[4499  219]\n",
            " [  15 4713]]\n",
            "\n",
            "Classification Report on Test Data\n",
            "               precision    recall  f1-score   support\n",
            "\n",
            "           0       0.94      0.87      0.91       530\n",
            "           1       0.88      0.95      0.91       520\n",
            "\n",
            "    accuracy                           0.91      1050\n",
            "   macro avg       0.91      0.91      0.91      1050\n",
            "weighted avg       0.91      0.91      0.91      1050\n",
            "\n",
            "Confusion Matrix on Test Data\n",
            " [[463  67]\n",
            " [ 27 493]]\n"
          ]
        }
      ],
      "source": [
        "from sklearn.metrics import classification_report, confusion_matrix\n",
        "print('Classification Report on Train Data\\n',classification_report(y_train,y_train_pred))\n",
        "print('Confusion Matrix on Train Data\\n',confusion_matrix(y_train, y_train_pred))\n",
        "print('\\nClassification Report on Test Data\\n',classification_report(y_test,y_test_pred))\n",
        "print('Confusion Matrix on Test Data\\n',confusion_matrix(y_test, y_test_pred))"
      ]
    },
    {
      "cell_type": "code",
      "source": [
        "scores = cross_val_score(classifier, X, y, cv=10)\n",
        "scores"
      ],
      "metadata": {
        "colab": {
          "base_uri": "https://localhost:8080/"
        },
        "id": "j3EezLg054Kz",
        "outputId": "081945b5-197d-40c1-a1e2-8e916480e1d1"
      },
      "id": "j3EezLg054Kz",
      "execution_count": 35,
      "outputs": [
        {
          "output_type": "execute_result",
          "data": {
            "text/plain": [
              "array([0.91904762, 0.91904762, 0.9       , 0.91714286, 0.90571429,\n",
              "       0.90761905, 0.90657769, 0.92564347, 0.8884652 , 0.90657769])"
            ]
          },
          "metadata": {},
          "execution_count": 35
        }
      ]
    },
    {
      "cell_type": "markdown",
      "source": [
        "## Prediction"
      ],
      "metadata": {
        "id": "UKPK7UAYxPED"
      },
      "id": "UKPK7UAYxPED"
    },
    {
      "cell_type": "code",
      "execution_count": 36,
      "id": "5a8f7d82",
      "metadata": {
        "execution": {
          "iopub.execute_input": "2022-03-11T06:36:57.740785Z",
          "iopub.status.busy": "2022-03-11T06:36:57.740226Z",
          "iopub.status.idle": "2022-03-11T06:37:03.783444Z",
          "shell.execute_reply": "2022-03-11T06:37:03.782910Z",
          "shell.execute_reply.started": "2022-03-08T12:46:17.820434Z"
        },
        "papermill": {
          "duration": 6.085632,
          "end_time": "2022-03-11T06:37:03.783577",
          "exception": false,
          "start_time": "2022-03-11T06:36:57.697945",
          "status": "completed"
        },
        "tags": [],
        "colab": {
          "base_uri": "https://localhost:8080/"
        },
        "id": "5a8f7d82",
        "outputId": "3cedfcba-598d-41c4-fe72-ff5a06a99ce9"
      },
      "outputs": [
        {
          "output_type": "stream",
          "name": "stdout",
          "text": [
            "3498\n",
            "3498\n"
          ]
        }
      ],
      "source": [
        "test_data.columns = ['Source','Target']\n",
        "final_data_list = []\n",
        "test_df = transform_data(test_data, add_link= False)        \n",
        "print(len(test_df))        \n",
        "print(len(test_data))\n"
      ]
    },
    {
      "cell_type": "code",
      "execution_count": 37,
      "id": "64dc1f78",
      "metadata": {
        "execution": {
          "iopub.execute_input": "2022-03-11T06:37:03.867239Z",
          "iopub.status.busy": "2022-03-11T06:37:03.866641Z",
          "iopub.status.idle": "2022-03-11T06:37:03.881163Z",
          "shell.execute_reply": "2022-03-11T06:37:03.881554Z",
          "shell.execute_reply.started": "2022-03-08T12:46:25.457267Z"
        },
        "papermill": {
          "duration": 0.057709,
          "end_time": "2022-03-11T06:37:03.881711",
          "exception": false,
          "start_time": "2022-03-11T06:37:03.824002",
          "status": "completed"
        },
        "tags": [],
        "colab": {
          "base_uri": "https://localhost:8080/",
          "height": 206
        },
        "id": "64dc1f78",
        "outputId": "037ad817-ae86-48e8-b0b1-e17958a11cd9"
      },
      "outputs": [
        {
          "output_type": "execute_result",
          "data": {
            "text/plain": [
              "   SrcPageRank       SrcHubs       SrcAuth  SrcDegCnt  SrcBetCnt  SrcDeg  \\\n",
              "0     0.000146  8.357243e-09  8.357243e-09   0.000278   0.000278       1   \n",
              "1     0.000190  7.257390e-07  7.257390e-07   0.000556   0.000315       2   \n",
              "2     0.000137  1.783129e-07  1.783129e-07   0.000278   0.000278       1   \n",
              "3     0.000122  5.395305e-07  5.395305e-07   0.000278   0.000278       1   \n",
              "4     0.000178  9.566596e-06  9.566596e-06   0.000556   0.000295       2   \n",
              "\n",
              "   TgtPageRank       TgtHubs       TgtAuth  TgtDegCnt  TgtBetCnt  TgtDeg  \n",
              "0     0.000183  2.886810e-06  2.886810e-06   0.000556   0.002482       2  \n",
              "1     0.000220  3.643171e-06  3.643171e-06   0.000556   0.000556       2  \n",
              "2     0.000248  6.059582e-07  6.059582e-07   0.000556   0.000556       2  \n",
              "3     0.000350  2.064806e-06  2.064806e-06   0.001112   0.000629       4  \n",
              "4     0.000110  2.320759e-06  2.320759e-06   0.000278   0.000278       1  "
            ],
            "text/html": [
              "\n",
              "  <div id=\"df-02f6c5d1-427c-44a4-83f6-fc34259b96f0\">\n",
              "    <div class=\"colab-df-container\">\n",
              "      <div>\n",
              "<style scoped>\n",
              "    .dataframe tbody tr th:only-of-type {\n",
              "        vertical-align: middle;\n",
              "    }\n",
              "\n",
              "    .dataframe tbody tr th {\n",
              "        vertical-align: top;\n",
              "    }\n",
              "\n",
              "    .dataframe thead th {\n",
              "        text-align: right;\n",
              "    }\n",
              "</style>\n",
              "<table border=\"1\" class=\"dataframe\">\n",
              "  <thead>\n",
              "    <tr style=\"text-align: right;\">\n",
              "      <th></th>\n",
              "      <th>SrcPageRank</th>\n",
              "      <th>SrcHubs</th>\n",
              "      <th>SrcAuth</th>\n",
              "      <th>SrcDegCnt</th>\n",
              "      <th>SrcBetCnt</th>\n",
              "      <th>SrcDeg</th>\n",
              "      <th>TgtPageRank</th>\n",
              "      <th>TgtHubs</th>\n",
              "      <th>TgtAuth</th>\n",
              "      <th>TgtDegCnt</th>\n",
              "      <th>TgtBetCnt</th>\n",
              "      <th>TgtDeg</th>\n",
              "    </tr>\n",
              "  </thead>\n",
              "  <tbody>\n",
              "    <tr>\n",
              "      <th>0</th>\n",
              "      <td>0.000146</td>\n",
              "      <td>8.357243e-09</td>\n",
              "      <td>8.357243e-09</td>\n",
              "      <td>0.000278</td>\n",
              "      <td>0.000278</td>\n",
              "      <td>1</td>\n",
              "      <td>0.000183</td>\n",
              "      <td>2.886810e-06</td>\n",
              "      <td>2.886810e-06</td>\n",
              "      <td>0.000556</td>\n",
              "      <td>0.002482</td>\n",
              "      <td>2</td>\n",
              "    </tr>\n",
              "    <tr>\n",
              "      <th>1</th>\n",
              "      <td>0.000190</td>\n",
              "      <td>7.257390e-07</td>\n",
              "      <td>7.257390e-07</td>\n",
              "      <td>0.000556</td>\n",
              "      <td>0.000315</td>\n",
              "      <td>2</td>\n",
              "      <td>0.000220</td>\n",
              "      <td>3.643171e-06</td>\n",
              "      <td>3.643171e-06</td>\n",
              "      <td>0.000556</td>\n",
              "      <td>0.000556</td>\n",
              "      <td>2</td>\n",
              "    </tr>\n",
              "    <tr>\n",
              "      <th>2</th>\n",
              "      <td>0.000137</td>\n",
              "      <td>1.783129e-07</td>\n",
              "      <td>1.783129e-07</td>\n",
              "      <td>0.000278</td>\n",
              "      <td>0.000278</td>\n",
              "      <td>1</td>\n",
              "      <td>0.000248</td>\n",
              "      <td>6.059582e-07</td>\n",
              "      <td>6.059582e-07</td>\n",
              "      <td>0.000556</td>\n",
              "      <td>0.000556</td>\n",
              "      <td>2</td>\n",
              "    </tr>\n",
              "    <tr>\n",
              "      <th>3</th>\n",
              "      <td>0.000122</td>\n",
              "      <td>5.395305e-07</td>\n",
              "      <td>5.395305e-07</td>\n",
              "      <td>0.000278</td>\n",
              "      <td>0.000278</td>\n",
              "      <td>1</td>\n",
              "      <td>0.000350</td>\n",
              "      <td>2.064806e-06</td>\n",
              "      <td>2.064806e-06</td>\n",
              "      <td>0.001112</td>\n",
              "      <td>0.000629</td>\n",
              "      <td>4</td>\n",
              "    </tr>\n",
              "    <tr>\n",
              "      <th>4</th>\n",
              "      <td>0.000178</td>\n",
              "      <td>9.566596e-06</td>\n",
              "      <td>9.566596e-06</td>\n",
              "      <td>0.000556</td>\n",
              "      <td>0.000295</td>\n",
              "      <td>2</td>\n",
              "      <td>0.000110</td>\n",
              "      <td>2.320759e-06</td>\n",
              "      <td>2.320759e-06</td>\n",
              "      <td>0.000278</td>\n",
              "      <td>0.000278</td>\n",
              "      <td>1</td>\n",
              "    </tr>\n",
              "  </tbody>\n",
              "</table>\n",
              "</div>\n",
              "      <button class=\"colab-df-convert\" onclick=\"convertToInteractive('df-02f6c5d1-427c-44a4-83f6-fc34259b96f0')\"\n",
              "              title=\"Convert this dataframe to an interactive table.\"\n",
              "              style=\"display:none;\">\n",
              "        \n",
              "  <svg xmlns=\"http://www.w3.org/2000/svg\" height=\"24px\"viewBox=\"0 0 24 24\"\n",
              "       width=\"24px\">\n",
              "    <path d=\"M0 0h24v24H0V0z\" fill=\"none\"/>\n",
              "    <path d=\"M18.56 5.44l.94 2.06.94-2.06 2.06-.94-2.06-.94-.94-2.06-.94 2.06-2.06.94zm-11 1L8.5 8.5l.94-2.06 2.06-.94-2.06-.94L8.5 2.5l-.94 2.06-2.06.94zm10 10l.94 2.06.94-2.06 2.06-.94-2.06-.94-.94-2.06-.94 2.06-2.06.94z\"/><path d=\"M17.41 7.96l-1.37-1.37c-.4-.4-.92-.59-1.43-.59-.52 0-1.04.2-1.43.59L10.3 9.45l-7.72 7.72c-.78.78-.78 2.05 0 2.83L4 21.41c.39.39.9.59 1.41.59.51 0 1.02-.2 1.41-.59l7.78-7.78 2.81-2.81c.8-.78.8-2.07 0-2.86zM5.41 20L4 18.59l7.72-7.72 1.47 1.35L5.41 20z\"/>\n",
              "  </svg>\n",
              "      </button>\n",
              "      \n",
              "  <style>\n",
              "    .colab-df-container {\n",
              "      display:flex;\n",
              "      flex-wrap:wrap;\n",
              "      gap: 12px;\n",
              "    }\n",
              "\n",
              "    .colab-df-convert {\n",
              "      background-color: #E8F0FE;\n",
              "      border: none;\n",
              "      border-radius: 50%;\n",
              "      cursor: pointer;\n",
              "      display: none;\n",
              "      fill: #1967D2;\n",
              "      height: 32px;\n",
              "      padding: 0 0 0 0;\n",
              "      width: 32px;\n",
              "    }\n",
              "\n",
              "    .colab-df-convert:hover {\n",
              "      background-color: #E2EBFA;\n",
              "      box-shadow: 0px 1px 2px rgba(60, 64, 67, 0.3), 0px 1px 3px 1px rgba(60, 64, 67, 0.15);\n",
              "      fill: #174EA6;\n",
              "    }\n",
              "\n",
              "    [theme=dark] .colab-df-convert {\n",
              "      background-color: #3B4455;\n",
              "      fill: #D2E3FC;\n",
              "    }\n",
              "\n",
              "    [theme=dark] .colab-df-convert:hover {\n",
              "      background-color: #434B5C;\n",
              "      box-shadow: 0px 1px 3px 1px rgba(0, 0, 0, 0.15);\n",
              "      filter: drop-shadow(0px 1px 2px rgba(0, 0, 0, 0.3));\n",
              "      fill: #FFFFFF;\n",
              "    }\n",
              "  </style>\n",
              "\n",
              "      <script>\n",
              "        const buttonEl =\n",
              "          document.querySelector('#df-02f6c5d1-427c-44a4-83f6-fc34259b96f0 button.colab-df-convert');\n",
              "        buttonEl.style.display =\n",
              "          google.colab.kernel.accessAllowed ? 'block' : 'none';\n",
              "\n",
              "        async function convertToInteractive(key) {\n",
              "          const element = document.querySelector('#df-02f6c5d1-427c-44a4-83f6-fc34259b96f0');\n",
              "          const dataTable =\n",
              "            await google.colab.kernel.invokeFunction('convertToInteractive',\n",
              "                                                     [key], {});\n",
              "          if (!dataTable) return;\n",
              "\n",
              "          const docLinkHtml = 'Like what you see? Visit the ' +\n",
              "            '<a target=\"_blank\" href=https://colab.research.google.com/notebooks/data_table.ipynb>data table notebook</a>'\n",
              "            + ' to learn more about interactive tables.';\n",
              "          element.innerHTML = '';\n",
              "          dataTable['output_type'] = 'display_data';\n",
              "          await google.colab.output.renderOutput(dataTable, element);\n",
              "          const docLink = document.createElement('div');\n",
              "          docLink.innerHTML = docLinkHtml;\n",
              "          element.appendChild(docLink);\n",
              "        }\n",
              "      </script>\n",
              "    </div>\n",
              "  </div>\n",
              "  "
            ]
          },
          "metadata": {},
          "execution_count": 37
        }
      ],
      "source": [
        "test_df.head()"
      ]
    },
    {
      "cell_type": "code",
      "execution_count": 38,
      "id": "5398b312",
      "metadata": {
        "execution": {
          "iopub.execute_input": "2022-03-11T06:37:03.966266Z",
          "iopub.status.busy": "2022-03-11T06:37:03.965656Z",
          "iopub.status.idle": "2022-03-11T06:37:45.423108Z",
          "shell.execute_reply": "2022-03-11T06:37:45.422586Z",
          "shell.execute_reply.started": "2022-03-08T12:46:25.475564Z"
        },
        "papermill": {
          "duration": 41.501081,
          "end_time": "2022-03-11T06:37:45.423275",
          "exception": false,
          "start_time": "2022-03-11T06:37:03.922194",
          "status": "completed"
        },
        "tags": [],
        "id": "5398b312"
      },
      "outputs": [],
      "source": [
        "y_pred = classifier.predict(test_df)"
      ]
    },
    {
      "cell_type": "code",
      "execution_count": 39,
      "id": "1c21a375",
      "metadata": {
        "execution": {
          "iopub.execute_input": "2022-03-11T06:37:45.508267Z",
          "iopub.status.busy": "2022-03-11T06:37:45.507372Z",
          "iopub.status.idle": "2022-03-11T06:37:45.725253Z",
          "shell.execute_reply": "2022-03-11T06:37:45.724717Z",
          "shell.execute_reply.started": "2022-03-08T12:47:18.71942Z"
        },
        "papermill": {
          "duration": 0.261032,
          "end_time": "2022-03-11T06:37:45.725391",
          "exception": false,
          "start_time": "2022-03-11T06:37:45.464359",
          "status": "completed"
        },
        "tags": [],
        "id": "1c21a375"
      },
      "outputs": [],
      "source": [
        "submit_df = pd.DataFrame()\n",
        "submit_df['id'] = list(range(len(test_df)))\n",
        "submit_df['predicted'] = list(y_pred)\n",
        "\n",
        "submit_df.to_csv('submission.csv', index = False)"
      ]
    },
    {
      "cell_type": "code",
      "execution_count": null,
      "id": "065b82b5",
      "metadata": {
        "papermill": {
          "duration": 0.040681,
          "end_time": "2022-03-11T06:37:45.807032",
          "exception": false,
          "start_time": "2022-03-11T06:37:45.766351",
          "status": "completed"
        },
        "tags": [],
        "id": "065b82b5"
      },
      "outputs": [],
      "source": []
    },
    {
      "cell_type": "code",
      "execution_count": null,
      "id": "8dc0496e",
      "metadata": {
        "papermill": {
          "duration": 0.040029,
          "end_time": "2022-03-11T06:37:45.887278",
          "exception": false,
          "start_time": "2022-03-11T06:37:45.847249",
          "status": "completed"
        },
        "tags": [],
        "id": "8dc0496e"
      },
      "outputs": [],
      "source": []
    }
  ],
  "metadata": {
    "kernelspec": {
      "display_name": "Python 3",
      "language": "python",
      "name": "python3"
    },
    "language_info": {
      "codemirror_mode": {
        "name": "ipython",
        "version": 3
      },
      "file_extension": ".py",
      "mimetype": "text/x-python",
      "name": "python",
      "nbconvert_exporter": "python",
      "pygments_lexer": "ipython3",
      "version": "3.7.12"
    },
    "papermill": {
      "default_parameters": {},
      "duration": 460.172762,
      "end_time": "2022-03-11T06:37:46.938693",
      "environment_variables": {},
      "exception": null,
      "input_path": "__notebook__.ipynb",
      "output_path": "__notebook__.ipynb",
      "parameters": {},
      "start_time": "2022-03-11T06:30:06.765931",
      "version": "2.3.3"
    },
    "colab": {
      "provenance": []
    }
  },
  "nbformat": 4,
  "nbformat_minor": 5
}